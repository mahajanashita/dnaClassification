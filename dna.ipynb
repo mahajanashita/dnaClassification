{
  "nbformat": 4,
  "nbformat_minor": 0,
  "metadata": {
    "colab": {
      "name": "dna.ipynb",
      "provenance": [],
      "mount_file_id": "1VkGK3TNIEyqWZWwGyOkM3su9b6JNvYjZ",
      "authorship_tag": "ABX9TyOrUJxdVgAXFXA9/S4VoGGz",
      "include_colab_link": true
    },
    "kernelspec": {
      "name": "python3",
      "display_name": "Python 3"
    }
  },
  "cells": [
    {
      "cell_type": "markdown",
      "metadata": {
        "id": "view-in-github",
        "colab_type": "text"
      },
      "source": [
        "<a href=\"https://colab.research.google.com/github/mahajanashita/dnaClassification/blob/main/dna.ipynb\" target=\"_parent\"><img src=\"https://colab.research.google.com/assets/colab-badge.svg\" alt=\"Open In Colab\"/></a>"
      ]
    },
    {
      "cell_type": "code",
      "metadata": {
        "id": "X_jliBB9niAp"
      },
      "source": [
        "import numpy as np\n",
        "import pandas as pd\n",
        "import matplotlib.pyplot as plt\n",
        "%matplotlib inline\n"
      ],
      "execution_count": 1,
      "outputs": []
    },
    {
      "cell_type": "code",
      "metadata": {
        "id": "vX_tfmh5okNf"
      },
      "source": [
        "human_data = pd.read_table('/content/drive/My Drive/human_data.txt', skipinitialspace=True)\n",
        "human_data.head()"
      ],
      "execution_count": null,
      "outputs": []
    },
    {
      "cell_type": "markdown",
      "metadata": {
        "id": "XfGMmWzIo4ul"
      },
      "source": [
        "**We have some data for human DNA sequence coding regions and a class label. We also have data for Chimpanzee and a more divergent species, the dog.**"
      ]
    },
    {
      "cell_type": "code",
      "metadata": {
        "id": "SuWA4Fm9pBbu"
      },
      "source": [
        "chimp_data = pd.read_table('/content/drive/My Drive/chimp_data.txt', skipinitialspace=True)\n",
        "dog_data = pd.read_table('/content/drive/My Drive/dog_data.txt', skipinitialspace=True)\n",
        "chimp_data.head()\n",
        "dog_data.head()"
      ],
      "execution_count": null,
      "outputs": []
    },
    {
      "cell_type": "code",
      "metadata": {
        "id": "K-E2tc3Gsm7E"
      },
      "source": [
        "def getKmers(sequence,size=6):\n",
        " \n",
        "    return [sequence[x:x+size].lower() for x in range(len(sequence) - size + 1)]"
      ],
      "execution_count": null,
      "outputs": []
    },
    {
      "cell_type": "code",
      "metadata": {
        "id": "8Gh_Mxj0v6PB"
      },
      "source": [
        "human_data['words'] = human_data.apply(lambda x: getKmers(x['sequence']), axis=1)\n",
        "human_data = human_data.drop('sequence', axis=1)\n",
        "chimp_data['words'] = chimp_data.apply(lambda x: getKmers(x['sequence']), axis=1)\n",
        "chimp_data = chimp_data.drop('sequence', axis=1)\n",
        "dog_data['words'] = dog_data.apply(lambda x: getKmers(x['sequence']), axis=1)\n",
        "dog_data = dog_data.drop('sequence', axis=1)"
      ],
      "execution_count": null,
      "outputs": []
    },
    {
      "cell_type": "code",
      "metadata": {
        "id": "JaKGcxSW2-r-"
      },
      "source": [
        "human_data.head()"
      ],
      "execution_count": null,
      "outputs": []
    },
    {
      "cell_type": "code",
      "metadata": {
        "id": "NzCl8SUU3lvC"
      },
      "source": [
        "human_texts = list(human_data['words'])\n",
        "for item in range(len(human_texts)):\n",
        "    human_texts[item] = ' '.join(human_texts[item])\n",
        "y_data = human_data.iloc[:, 0].values"
      ],
      "execution_count": null,
      "outputs": []
    },
    {
      "cell_type": "code",
      "metadata": {
        "id": "qlpAbKem35fF"
      },
      "source": [
        "print(human_texts[2])"
      ],
      "execution_count": null,
      "outputs": []
    },
    {
      "cell_type": "code",
      "metadata": {
        "id": "HCwTxjYW3-aQ"
      },
      "source": [
        "\n",
        "y_data"
      ],
      "execution_count": null,
      "outputs": []
    },
    {
      "cell_type": "code",
      "metadata": {
        "id": "OSQtB76a48bm"
      },
      "source": [
        "chimp_texts = list(chimp_data['words'])\n",
        "for item in range(len(chimp_texts)):\n",
        "    chimp_texts[item] = ' '.join(chimp_texts[item])\n",
        "y_chimp = chimp_data.iloc[:, 0].values                       # y_c for chimp\n",
        "\n",
        "dog_texts = list(dog_data['words'])\n",
        "for item in range(len(dog_texts)):\n",
        "    dog_texts[item] = ' '.join(dog_texts[item])\n",
        "y_dog = dog_data.iloc[:, 0].values"
      ],
      "execution_count": null,
      "outputs": []
    },
    {
      "cell_type": "code",
      "metadata": {
        "id": "ijjaysQ-5ULL"
      },
      "source": [
        "from sklearn.feature_extraction.text import CountVectorizer\n",
        "cv = CountVectorizer(ngram_range=(4,4))\n",
        "X = cv.fit_transform(human_texts)\n",
        "X_chimp = cv.transform(chimp_texts)\n",
        "X_dog = cv.transform(dog_texts)"
      ],
      "execution_count": null,
      "outputs": []
    },
    {
      "cell_type": "code",
      "metadata": {
        "id": "NYJ4NnLA5ah5"
      },
      "source": [
        "print(X.shape)\n",
        "print(X_chimp.shape)\n",
        "print(X_dog.shape)"
      ],
      "execution_count": null,
      "outputs": []
    },
    {
      "cell_type": "code",
      "metadata": {
        "id": "8-JDsjDy5sDi"
      },
      "source": [
        "human_data['class'].value_counts().sort_index().plot.bar()"
      ],
      "execution_count": null,
      "outputs": []
    },
    {
      "cell_type": "code",
      "metadata": {
        "id": "rMn5jhPj5_GH"
      },
      "source": [
        "from sklearn.model_selection import train_test_split\n",
        "X_train, X_test, y_train, y_test = train_test_split(X, \n",
        "                                                    y_data, \n",
        "                                                    test_size = 0.20, \n",
        "                                                    random_state=42)"
      ],
      "execution_count": null,
      "outputs": []
    },
    {
      "cell_type": "code",
      "metadata": {
        "id": "Q8aq5DhB6DkM"
      },
      "source": [
        "print(X_train.shape)\n",
        "print(X_test.shape)"
      ],
      "execution_count": null,
      "outputs": []
    },
    {
      "cell_type": "code",
      "metadata": {
        "id": "A_07D47xNMeU"
      },
      "source": [
        "from sklearn.naive_bayes import MultinomialNB\n",
        "classifier = MultinomialNB(alpha=0.1)\n",
        "classifier.fit(X_train, y_train)"
      ],
      "execution_count": null,
      "outputs": []
    },
    {
      "cell_type": "code",
      "metadata": {
        "colab": {
          "base_uri": "https://localhost:8080/"
        },
        "id": "CNd2I_rZMuZJ",
        "outputId": "28cebb4e-0e57-475a-f10c-b2ee6698477d"
      },
      "source": [
        "!git clone https://github.com/mahajanashita/dnaClassification.git"
      ],
      "execution_count": 2,
      "outputs": [
        {
          "output_type": "stream",
          "text": [
            "Cloning into 'dnaClassification'...\n",
            "remote: Enumerating objects: 3, done.\u001b[K\n",
            "remote: Counting objects: 100% (3/3), done.\u001b[K\n",
            "remote: Total 3 (delta 0), reused 0 (delta 0), pack-reused 0\u001b[K\n",
            "Unpacking objects: 100% (3/3), done.\n"
          ],
          "name": "stdout"
        }
      ]
    }
  ]
}